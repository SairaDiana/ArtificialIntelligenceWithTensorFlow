{
 "cells": [
  {
   "cell_type": "code",
   "execution_count": 1,
   "metadata": {},
   "outputs": [],
   "source": [
    "import pandas as pd\n",
    "import numpy as np\n",
    "import matplotlib.pyplot as plt\n",
    "from sklearn.linear_model import LogisticRegression\n",
    "from sklearn.metrics import roc_auc_score\n",
    "from sklearn.metrics import accuracy_score\n",
    "from sklearn.model_selection import train_test_split\n",
    "\n",
    "%matplotlib inline\n",
    "pd.set_option('display.max_columns',500)"
   ]
  },
  {
   "cell_type": "code",
   "execution_count": 2,
   "metadata": {},
   "outputs": [],
   "source": [
    "df = pd.read_csv('Heart3.csv')"
   ]
  },
  {
   "cell_type": "code",
   "execution_count": 3,
   "metadata": {},
   "outputs": [
    {
     "data": {
      "text/html": [
       "<div>\n",
       "<style scoped>\n",
       "    .dataframe tbody tr th:only-of-type {\n",
       "        vertical-align: middle;\n",
       "    }\n",
       "\n",
       "    .dataframe tbody tr th {\n",
       "        vertical-align: top;\n",
       "    }\n",
       "\n",
       "    .dataframe thead th {\n",
       "        text-align: right;\n",
       "    }\n",
       "</style>\n",
       "<table border=\"1\" class=\"dataframe\">\n",
       "  <thead>\n",
       "    <tr style=\"text-align: right;\">\n",
       "      <th></th>\n",
       "      <th>age</th>\n",
       "      <th>sex</th>\n",
       "      <th>cp</th>\n",
       "      <th>trestbps</th>\n",
       "      <th>chol</th>\n",
       "      <th>restecg</th>\n",
       "      <th>thalach</th>\n",
       "      <th>exang</th>\n",
       "      <th>oldpeak</th>\n",
       "      <th>slope</th>\n",
       "      <th>ca</th>\n",
       "      <th>thal</th>\n",
       "      <th>MEDV</th>\n",
       "    </tr>\n",
       "  </thead>\n",
       "  <tbody>\n",
       "    <tr>\n",
       "      <th>0</th>\n",
       "      <td>63</td>\n",
       "      <td>1</td>\n",
       "      <td>3</td>\n",
       "      <td>145</td>\n",
       "      <td>233</td>\n",
       "      <td>0</td>\n",
       "      <td>150</td>\n",
       "      <td>0</td>\n",
       "      <td>2.3</td>\n",
       "      <td>0</td>\n",
       "      <td>0</td>\n",
       "      <td>1</td>\n",
       "      <td>s</td>\n",
       "    </tr>\n",
       "    <tr>\n",
       "      <th>1</th>\n",
       "      <td>37</td>\n",
       "      <td>1</td>\n",
       "      <td>2</td>\n",
       "      <td>130</td>\n",
       "      <td>250</td>\n",
       "      <td>1</td>\n",
       "      <td>187</td>\n",
       "      <td>0</td>\n",
       "      <td>3.5</td>\n",
       "      <td>0</td>\n",
       "      <td>0</td>\n",
       "      <td>2</td>\n",
       "      <td>s</td>\n",
       "    </tr>\n",
       "    <tr>\n",
       "      <th>2</th>\n",
       "      <td>41</td>\n",
       "      <td>0</td>\n",
       "      <td>1</td>\n",
       "      <td>130</td>\n",
       "      <td>204</td>\n",
       "      <td>0</td>\n",
       "      <td>172</td>\n",
       "      <td>0</td>\n",
       "      <td>1.4</td>\n",
       "      <td>2</td>\n",
       "      <td>0</td>\n",
       "      <td>2</td>\n",
       "      <td>s</td>\n",
       "    </tr>\n",
       "    <tr>\n",
       "      <th>3</th>\n",
       "      <td>56</td>\n",
       "      <td>1</td>\n",
       "      <td>1</td>\n",
       "      <td>120</td>\n",
       "      <td>236</td>\n",
       "      <td>1</td>\n",
       "      <td>178</td>\n",
       "      <td>0</td>\n",
       "      <td>0.8</td>\n",
       "      <td>2</td>\n",
       "      <td>0</td>\n",
       "      <td>2</td>\n",
       "      <td>s</td>\n",
       "    </tr>\n",
       "    <tr>\n",
       "      <th>4</th>\n",
       "      <td>57</td>\n",
       "      <td>0</td>\n",
       "      <td>0</td>\n",
       "      <td>120</td>\n",
       "      <td>354</td>\n",
       "      <td>1</td>\n",
       "      <td>163</td>\n",
       "      <td>1</td>\n",
       "      <td>0.6</td>\n",
       "      <td>2</td>\n",
       "      <td>0</td>\n",
       "      <td>2</td>\n",
       "      <td>s</td>\n",
       "    </tr>\n",
       "  </tbody>\n",
       "</table>\n",
       "</div>"
      ],
      "text/plain": [
       "   age  sex  cp  trestbps  chol  restecg  thalach  exang  oldpeak  slope  ca  \\\n",
       "0   63    1   3       145   233        0      150      0      2.3      0   0   \n",
       "1   37    1   2       130   250        1      187      0      3.5      0   0   \n",
       "2   41    0   1       130   204        0      172      0      1.4      2   0   \n",
       "3   56    1   1       120   236        1      178      0      0.8      2   0   \n",
       "4   57    0   0       120   354        1      163      1      0.6      2   0   \n",
       "\n",
       "   thal MEDV  \n",
       "0     1    s  \n",
       "1     2    s  \n",
       "2     2    s  \n",
       "3     2    s  \n",
       "4     2    s  "
      ]
     },
     "execution_count": 3,
     "metadata": {},
     "output_type": "execute_result"
    }
   ],
   "source": [
    "df.head()"
   ]
  },
  {
   "cell_type": "code",
   "execution_count": 4,
   "metadata": {},
   "outputs": [
    {
     "data": {
      "text/plain": [
       "(303, 13)"
      ]
     },
     "execution_count": 4,
     "metadata": {},
     "output_type": "execute_result"
    }
   ],
   "source": [
    "df.shape"
   ]
  },
  {
   "cell_type": "code",
   "execution_count": 5,
   "metadata": {},
   "outputs": [
    {
     "data": {
      "text/plain": [
       "Index(['age', 'sex', 'cp', 'trestbps', 'chol', 'restecg', 'thalach', 'exang',\n",
       "       'oldpeak', 'slope', 'ca', 'thal', 'MEDV'],\n",
       "      dtype='object')"
      ]
     },
     "execution_count": 5,
     "metadata": {},
     "output_type": "execute_result"
    }
   ],
   "source": [
    "df.columns"
   ]
  },
  {
   "cell_type": "code",
   "execution_count": 6,
   "metadata": {},
   "outputs": [],
   "source": [
    "var = ['oldpeak', 'chol', 'thalach', 'trestbps','age', 'cp', 'restecg', 'exang','slope', 'ca', 'thal', 'sex']"
   ]
  },
  {
   "cell_type": "code",
   "execution_count": 7,
   "metadata": {},
   "outputs": [],
   "source": [
    "X = df[var].copy()"
   ]
  },
  {
   "cell_type": "code",
   "execution_count": 8,
   "metadata": {},
   "outputs": [
    {
     "data": {
      "text/html": [
       "<div>\n",
       "<style scoped>\n",
       "    .dataframe tbody tr th:only-of-type {\n",
       "        vertical-align: middle;\n",
       "    }\n",
       "\n",
       "    .dataframe tbody tr th {\n",
       "        vertical-align: top;\n",
       "    }\n",
       "\n",
       "    .dataframe thead th {\n",
       "        text-align: right;\n",
       "    }\n",
       "</style>\n",
       "<table border=\"1\" class=\"dataframe\">\n",
       "  <thead>\n",
       "    <tr style=\"text-align: right;\">\n",
       "      <th></th>\n",
       "      <th>oldpeak</th>\n",
       "      <th>chol</th>\n",
       "      <th>thalach</th>\n",
       "      <th>trestbps</th>\n",
       "      <th>age</th>\n",
       "      <th>cp</th>\n",
       "      <th>restecg</th>\n",
       "      <th>exang</th>\n",
       "      <th>slope</th>\n",
       "      <th>ca</th>\n",
       "      <th>thal</th>\n",
       "      <th>sex</th>\n",
       "    </tr>\n",
       "  </thead>\n",
       "  <tbody>\n",
       "    <tr>\n",
       "      <th>0</th>\n",
       "      <td>2.3</td>\n",
       "      <td>233</td>\n",
       "      <td>150</td>\n",
       "      <td>145</td>\n",
       "      <td>63</td>\n",
       "      <td>3</td>\n",
       "      <td>0</td>\n",
       "      <td>0</td>\n",
       "      <td>0</td>\n",
       "      <td>0</td>\n",
       "      <td>1</td>\n",
       "      <td>1</td>\n",
       "    </tr>\n",
       "    <tr>\n",
       "      <th>1</th>\n",
       "      <td>3.5</td>\n",
       "      <td>250</td>\n",
       "      <td>187</td>\n",
       "      <td>130</td>\n",
       "      <td>37</td>\n",
       "      <td>2</td>\n",
       "      <td>1</td>\n",
       "      <td>0</td>\n",
       "      <td>0</td>\n",
       "      <td>0</td>\n",
       "      <td>2</td>\n",
       "      <td>1</td>\n",
       "    </tr>\n",
       "    <tr>\n",
       "      <th>2</th>\n",
       "      <td>1.4</td>\n",
       "      <td>204</td>\n",
       "      <td>172</td>\n",
       "      <td>130</td>\n",
       "      <td>41</td>\n",
       "      <td>1</td>\n",
       "      <td>0</td>\n",
       "      <td>0</td>\n",
       "      <td>2</td>\n",
       "      <td>0</td>\n",
       "      <td>2</td>\n",
       "      <td>0</td>\n",
       "    </tr>\n",
       "    <tr>\n",
       "      <th>3</th>\n",
       "      <td>0.8</td>\n",
       "      <td>236</td>\n",
       "      <td>178</td>\n",
       "      <td>120</td>\n",
       "      <td>56</td>\n",
       "      <td>1</td>\n",
       "      <td>1</td>\n",
       "      <td>0</td>\n",
       "      <td>2</td>\n",
       "      <td>0</td>\n",
       "      <td>2</td>\n",
       "      <td>1</td>\n",
       "    </tr>\n",
       "    <tr>\n",
       "      <th>4</th>\n",
       "      <td>0.6</td>\n",
       "      <td>354</td>\n",
       "      <td>163</td>\n",
       "      <td>120</td>\n",
       "      <td>57</td>\n",
       "      <td>0</td>\n",
       "      <td>1</td>\n",
       "      <td>1</td>\n",
       "      <td>2</td>\n",
       "      <td>0</td>\n",
       "      <td>2</td>\n",
       "      <td>0</td>\n",
       "    </tr>\n",
       "  </tbody>\n",
       "</table>\n",
       "</div>"
      ],
      "text/plain": [
       "   oldpeak  chol  thalach  trestbps  age  cp  restecg  exang  slope  ca  thal  \\\n",
       "0      2.3   233      150       145   63   3        0      0      0   0     1   \n",
       "1      3.5   250      187       130   37   2        1      0      0   0     2   \n",
       "2      1.4   204      172       130   41   1        0      0      2   0     2   \n",
       "3      0.8   236      178       120   56   1        1      0      2   0     2   \n",
       "4      0.6   354      163       120   57   0        1      1      2   0     2   \n",
       "\n",
       "   sex  \n",
       "0    1  \n",
       "1    1  \n",
       "2    0  \n",
       "3    1  \n",
       "4    0  "
      ]
     },
     "execution_count": 8,
     "metadata": {},
     "output_type": "execute_result"
    }
   ],
   "source": [
    "X.head()"
   ]
  },
  {
   "cell_type": "code",
   "execution_count": 9,
   "metadata": {},
   "outputs": [],
   "source": [
    "d = dict(zip(var,['x%d'%i for i in range(1,len(var)+1)]))"
   ]
  },
  {
   "cell_type": "code",
   "execution_count": 10,
   "metadata": {},
   "outputs": [],
   "source": [
    "X.rename(columns=d,inplace=True)"
   ]
  },
  {
   "cell_type": "code",
   "execution_count": 11,
   "metadata": {},
   "outputs": [
    {
     "data": {
      "text/plain": [
       "s    165\n",
       "n    138\n",
       "Name: MEDV, dtype: int64"
      ]
     },
     "execution_count": 11,
     "metadata": {},
     "output_type": "execute_result"
    }
   ],
   "source": [
    "df['MEDV'].value_counts()"
   ]
  },
  {
   "cell_type": "code",
   "execution_count": 12,
   "metadata": {},
   "outputs": [],
   "source": [
    "y = (df['MEDV'] == 's').astype(int)"
   ]
  },
  {
   "cell_type": "code",
   "execution_count": 16,
   "metadata": {},
   "outputs": [],
   "source": [
    "X['target'] = y"
   ]
  },
  {
   "cell_type": "code",
   "execution_count": 13,
   "metadata": {},
   "outputs": [],
   "source": [
    "for i in range(1,6):\n",
    "    X['x%d'%i] = pd.cut(X['x%d'%i],bins=3,include_lowest=True).astype(str)"
   ]
  },
  {
   "cell_type": "code",
   "execution_count": 14,
   "metadata": {
    "scrolled": true
   },
   "outputs": [
    {
     "name": "stdout",
     "output_type": "stream",
     "text": [
      "(-0.0072, 2.067]    0.834983\n",
      "(2.067, 4.133]      0.148515\n",
      "(4.133, 6.2]        0.016502\n",
      "Name: x1, dtype: float64\n",
      "\n",
      "\n",
      "(125.56099999999999, 272.0]    0.732673\n",
      "(272.0, 418.0]                 0.264026\n",
      "(418.0, 564.0]                 0.003300\n",
      "Name: x2, dtype: float64\n",
      "\n",
      "\n",
      "(114.667, 158.333]    0.504950\n",
      "(158.333, 202.0]      0.405941\n",
      "(70.868, 114.667]     0.089109\n",
      "Name: x3, dtype: float64\n",
      "\n",
      "\n",
      "(129.333, 164.667]    0.508251\n",
      "(93.893, 129.333]     0.445545\n",
      "(164.667, 200.0]      0.046205\n",
      "Name: x4, dtype: float64\n",
      "\n",
      "\n",
      "(45.0, 61.0]      0.554455\n",
      "(61.0, 77.0]      0.234323\n",
      "(28.951, 45.0]    0.211221\n",
      "Name: x5, dtype: float64\n",
      "\n",
      "\n",
      "0    0.471947\n",
      "2    0.287129\n",
      "1    0.165017\n",
      "3    0.075908\n",
      "Name: x6, dtype: float64\n",
      "\n",
      "\n",
      "1    0.501650\n",
      "0    0.485149\n",
      "2    0.013201\n",
      "Name: x7, dtype: float64\n",
      "\n",
      "\n",
      "0    0.673267\n",
      "1    0.326733\n",
      "Name: x8, dtype: float64\n",
      "\n",
      "\n",
      "2    0.468647\n",
      "1    0.462046\n",
      "0    0.069307\n",
      "Name: x9, dtype: float64\n",
      "\n",
      "\n",
      "0    0.577558\n",
      "1    0.214521\n",
      "2    0.125413\n",
      "3    0.066007\n",
      "4    0.016502\n",
      "Name: x10, dtype: float64\n",
      "\n",
      "\n",
      "2    0.547855\n",
      "3    0.386139\n",
      "1    0.059406\n",
      "0    0.006601\n",
      "Name: x11, dtype: float64\n",
      "\n",
      "\n",
      "1    0.683168\n",
      "0    0.316832\n",
      "Name: x12, dtype: float64\n",
      "\n",
      "\n"
     ]
    }
   ],
   "source": [
    "for i in range(1,13):\n",
    "    print(X['x%d'%i].value_counts(normalize=True))\n",
    "    print('\\n')"
   ]
  },
  {
   "cell_type": "code",
   "execution_count": 17,
   "metadata": {},
   "outputs": [
    {
     "name": "stderr",
     "output_type": "stream",
     "text": [
      "C:\\ProgramData\\Anaconda3\\lib\\site-packages\\ipykernel_launcher.py:12: RuntimeWarning: divide by zero encountered in log\n",
      "  if sys.path[0] == '':\n"
     ]
    }
   ],
   "source": [
    "for i in range(1,13):\n",
    "    aux=X[['x%d'%i,'target']].copy()\n",
    "    aux['n'] = 1\n",
    "    aux = aux.pivot_table(columns='target',\n",
    "                          index='x%d'%i,\n",
    "                          aggfunc='count',\n",
    "                          fill_value=0)\n",
    "    aux.columns = aux.columns.droplevel()\n",
    "    aux.reset_index(inplace=True)\n",
    "    aux['pne'] = aux[0]/aux[0].sum()\n",
    "    aux['pe'] = aux[1]/aux[1].sum()\n",
    "    aux['woe'] = np.log(aux['pne']/aux['pe'])\n",
    "    X = X.merge(aux[['x%d'%i,'woe']],on='x%d'%i,how='inner')\n",
    "    X.rename(columns={'woe':'w_x%d'%i},inplace=True)"
   ]
  },
  {
   "cell_type": "code",
   "execution_count": 18,
   "metadata": {},
   "outputs": [],
   "source": [
    "var_woe = [x for x in X.columns if x[:2]=='w_']"
   ]
  },
  {
   "cell_type": "code",
   "execution_count": 19,
   "metadata": {},
   "outputs": [
    {
     "data": {
      "text/html": [
       "<div>\n",
       "<style scoped>\n",
       "    .dataframe tbody tr th:only-of-type {\n",
       "        vertical-align: middle;\n",
       "    }\n",
       "\n",
       "    .dataframe tbody tr th {\n",
       "        vertical-align: top;\n",
       "    }\n",
       "\n",
       "    .dataframe thead th {\n",
       "        text-align: right;\n",
       "    }\n",
       "</style>\n",
       "<table border=\"1\" class=\"dataframe\">\n",
       "  <thead>\n",
       "    <tr style=\"text-align: right;\">\n",
       "      <th></th>\n",
       "      <th>w_x1</th>\n",
       "      <th>w_x2</th>\n",
       "      <th>w_x3</th>\n",
       "      <th>w_x4</th>\n",
       "      <th>w_x5</th>\n",
       "      <th>w_x6</th>\n",
       "      <th>w_x7</th>\n",
       "      <th>w_x8</th>\n",
       "      <th>w_x9</th>\n",
       "      <th>w_x10</th>\n",
       "      <th>w_x11</th>\n",
       "      <th>w_x12</th>\n",
       "    </tr>\n",
       "  </thead>\n",
       "  <tbody>\n",
       "    <tr>\n",
       "      <th>count</th>\n",
       "      <td>303.000000</td>\n",
       "      <td>303.000000</td>\n",
       "      <td>303.000000</td>\n",
       "      <td>303.000000</td>\n",
       "      <td>303.000000</td>\n",
       "      <td>303.000000</td>\n",
       "      <td>303.000000</td>\n",
       "      <td>303.000000</td>\n",
       "      <td>303.000000</td>\n",
       "      <td>303.000000</td>\n",
       "      <td>303.000000</td>\n",
       "      <td>303.000000</td>\n",
       "    </tr>\n",
       "    <tr>\n",
       "      <th>mean</th>\n",
       "      <td>0.054787</td>\n",
       "      <td>-inf</td>\n",
       "      <td>-0.012045</td>\n",
       "      <td>0.002113</td>\n",
       "      <td>-0.020343</td>\n",
       "      <td>-0.057207</td>\n",
       "      <td>-0.004450</td>\n",
       "      <td>0.011284</td>\n",
       "      <td>-0.039049</td>\n",
       "      <td>0.002894</td>\n",
       "      <td>-0.037042</td>\n",
       "      <td>-0.030291</td>\n",
       "    </tr>\n",
       "    <tr>\n",
       "      <th>std</th>\n",
       "      <td>0.869072</td>\n",
       "      <td>NaN</td>\n",
       "      <td>0.885228</td>\n",
       "      <td>0.245931</td>\n",
       "      <td>0.466934</td>\n",
       "      <td>1.163008</td>\n",
       "      <td>0.373494</td>\n",
       "      <td>0.950832</td>\n",
       "      <td>0.850294</td>\n",
       "      <td>1.117417</td>\n",
       "      <td>1.185869</td>\n",
       "      <td>0.606845</td>\n",
       "    </tr>\n",
       "    <tr>\n",
       "      <th>min</th>\n",
       "      <td>-0.330026</td>\n",
       "      <td>-inf</td>\n",
       "      <td>-0.952710</td>\n",
       "      <td>-0.104671</td>\n",
       "      <td>-0.919920</td>\n",
       "      <td>-1.337656</td>\n",
       "      <td>-0.360305</td>\n",
       "      <td>-0.650001</td>\n",
       "      <td>-0.938789</td>\n",
       "      <td>-1.207603</td>\n",
       "      <td>-1.105324</td>\n",
       "      <td>-0.919920</td>\n",
       "    </tr>\n",
       "    <tr>\n",
       "      <th>25%</th>\n",
       "      <td>-0.330026</td>\n",
       "      <td>-0.185646</td>\n",
       "      <td>-0.952710</td>\n",
       "      <td>-0.104671</td>\n",
       "      <td>0.202502</td>\n",
       "      <td>-1.165043</td>\n",
       "      <td>-0.360305</td>\n",
       "      <td>-0.650001</td>\n",
       "      <td>-0.938789</td>\n",
       "      <td>-0.882180</td>\n",
       "      <td>-1.105324</td>\n",
       "      <td>-0.919920</td>\n",
       "    </tr>\n",
       "    <tr>\n",
       "      <th>50%</th>\n",
       "      <td>-0.330026</td>\n",
       "      <td>-0.185646</td>\n",
       "      <td>0.401835</td>\n",
       "      <td>-0.003630</td>\n",
       "      <td>0.202502</td>\n",
       "      <td>-0.647987</td>\n",
       "      <td>-0.360305</td>\n",
       "      <td>-0.650001</td>\n",
       "      <td>0.466374</td>\n",
       "      <td>-0.882180</td>\n",
       "      <td>-1.105324</td>\n",
       "      <td>0.382291</td>\n",
       "    </tr>\n",
       "    <tr>\n",
       "      <th>75%</th>\n",
       "      <td>-0.330026</td>\n",
       "      <td>0.532332</td>\n",
       "      <td>0.401835</td>\n",
       "      <td>-0.003630</td>\n",
       "      <td>0.202502</td>\n",
       "      <td>1.159521</td>\n",
       "      <td>0.328632</td>\n",
       "      <td>1.373931</td>\n",
       "      <td>0.797731</td>\n",
       "      <td>0.918359</td>\n",
       "      <td>1.335124</td>\n",
       "      <td>0.382291</td>\n",
       "    </tr>\n",
       "    <tr>\n",
       "      <th>max</th>\n",
       "      <td>2.050494</td>\n",
       "      <td>0.532332</td>\n",
       "      <td>1.927892</td>\n",
       "      <td>1.094983</td>\n",
       "      <td>0.263249</td>\n",
       "      <td>1.159521</td>\n",
       "      <td>1.277304</td>\n",
       "      <td>1.373931</td>\n",
       "      <td>0.797731</td>\n",
       "      <td>1.913293</td>\n",
       "      <td>1.335124</td>\n",
       "      <td>0.382291</td>\n",
       "    </tr>\n",
       "  </tbody>\n",
       "</table>\n",
       "</div>"
      ],
      "text/plain": [
       "             w_x1        w_x2        w_x3        w_x4        w_x5        w_x6  \\\n",
       "count  303.000000  303.000000  303.000000  303.000000  303.000000  303.000000   \n",
       "mean     0.054787        -inf   -0.012045    0.002113   -0.020343   -0.057207   \n",
       "std      0.869072         NaN    0.885228    0.245931    0.466934    1.163008   \n",
       "min     -0.330026        -inf   -0.952710   -0.104671   -0.919920   -1.337656   \n",
       "25%     -0.330026   -0.185646   -0.952710   -0.104671    0.202502   -1.165043   \n",
       "50%     -0.330026   -0.185646    0.401835   -0.003630    0.202502   -0.647987   \n",
       "75%     -0.330026    0.532332    0.401835   -0.003630    0.202502    1.159521   \n",
       "max      2.050494    0.532332    1.927892    1.094983    0.263249    1.159521   \n",
       "\n",
       "             w_x7        w_x8        w_x9       w_x10       w_x11       w_x12  \n",
       "count  303.000000  303.000000  303.000000  303.000000  303.000000  303.000000  \n",
       "mean    -0.004450    0.011284   -0.039049    0.002894   -0.037042   -0.030291  \n",
       "std      0.373494    0.950832    0.850294    1.117417    1.185869    0.606845  \n",
       "min     -0.360305   -0.650001   -0.938789   -1.207603   -1.105324   -0.919920  \n",
       "25%     -0.360305   -0.650001   -0.938789   -0.882180   -1.105324   -0.919920  \n",
       "50%     -0.360305   -0.650001    0.466374   -0.882180   -1.105324    0.382291  \n",
       "75%      0.328632    1.373931    0.797731    0.918359    1.335124    0.382291  \n",
       "max      1.277304    1.373931    0.797731    1.913293    1.335124    0.382291  "
      ]
     },
     "execution_count": 19,
     "metadata": {},
     "output_type": "execute_result"
    }
   ],
   "source": [
    "X[var_woe].describe()"
   ]
  },
  {
   "cell_type": "code",
   "execution_count": 20,
   "metadata": {},
   "outputs": [],
   "source": [
    "y = X['target'].copy()\n",
    "Xw = X[var_woe].copy()"
   ]
  },
  {
   "cell_type": "code",
   "execution_count": 22,
   "metadata": {},
   "outputs": [],
   "source": [
    "modelo = LogisticRegression()"
   ]
  },
  {
   "cell_type": "code",
   "execution_count": 21,
   "metadata": {},
   "outputs": [],
   "source": [
    "Xw.drop(['w_x2'],axis=1,inplace=True)"
   ]
  },
  {
   "cell_type": "code",
   "execution_count": 31,
   "metadata": {},
   "outputs": [
    {
     "name": "stderr",
     "output_type": "stream",
     "text": [
      "C:\\ProgramData\\Anaconda3\\lib\\site-packages\\sklearn\\model_selection\\_split.py:2179: FutureWarning: From version 0.21, test_size will always complement train_size unless both are specified.\n",
      "  FutureWarning)\n"
     ]
    }
   ],
   "source": [
    "Xt,Xv,yt,yv = train_test_split(Xw,y,train_size=0.8)"
   ]
  },
  {
   "cell_type": "code",
   "execution_count": 32,
   "metadata": {},
   "outputs": [
    {
     "name": "stderr",
     "output_type": "stream",
     "text": [
      "C:\\ProgramData\\Anaconda3\\lib\\site-packages\\sklearn\\linear_model\\logistic.py:433: FutureWarning: Default solver will be changed to 'lbfgs' in 0.22. Specify a solver to silence this warning.\n",
      "  FutureWarning)\n"
     ]
    },
    {
     "data": {
      "text/plain": [
       "LogisticRegression(C=1.0, class_weight=None, dual=False, fit_intercept=True,\n",
       "          intercept_scaling=1, max_iter=100, multi_class='warn',\n",
       "          n_jobs=None, penalty='l2', random_state=None, solver='warn',\n",
       "          tol=0.0001, verbose=0, warm_start=False)"
      ]
     },
     "execution_count": 32,
     "metadata": {},
     "output_type": "execute_result"
    }
   ],
   "source": [
    "modelo.fit(Xt,yt)"
   ]
  },
  {
   "cell_type": "code",
   "execution_count": 33,
   "metadata": {
    "scrolled": false
   },
   "outputs": [
    {
     "name": "stdout",
     "output_type": "stream",
     "text": [
      "0.8512396694214877\n",
      "0.8688524590163934\n"
     ]
    }
   ],
   "source": [
    "print(accuracy_score(y_true=yt,y_pred=modelo.predict(Xt)))\n",
    "print(accuracy_score(y_true=yv,y_pred=modelo.predict(Xv)))"
   ]
  },
  {
   "cell_type": "code",
   "execution_count": 34,
   "metadata": {},
   "outputs": [
    {
     "name": "stdout",
     "output_type": "stream",
     "text": [
      "0.9356863552171228\n",
      "0.9261111111111111\n"
     ]
    }
   ],
   "source": [
    "print(roc_auc_score(y_true=yt,y_score=modelo.predict_proba(Xt)[:,1]))\n",
    "print(roc_auc_score(y_true=yv,y_score=modelo.predict_proba(Xv)[:,1]))"
   ]
  },
  {
   "cell_type": "code",
   "execution_count": null,
   "metadata": {},
   "outputs": [],
   "source": []
  }
 ],
 "metadata": {
  "kernelspec": {
   "display_name": "Python 3",
   "language": "python",
   "name": "python3"
  },
  "language_info": {
   "codemirror_mode": {
    "name": "ipython",
    "version": 3
   },
   "file_extension": ".py",
   "mimetype": "text/x-python",
   "name": "python",
   "nbconvert_exporter": "python",
   "pygments_lexer": "ipython3",
   "version": "3.7.3"
  }
 },
 "nbformat": 4,
 "nbformat_minor": 2
}
